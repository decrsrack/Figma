{
  "nbformat": 4,
  "nbformat_minor": 0,
  "metadata": {
    "colab": {
      "provenance": [],
      "include_colab_link": true
    },
    "kernelspec": {
      "name": "python3",
      "display_name": "Python 3"
    },
    "language_info": {
      "name": "python"
    }
  },
  "cells": [
    {
      "cell_type": "markdown",
      "metadata": {
        "id": "view-in-github",
        "colab_type": "text"
      },
      "source": [
        "<a href=\"https://colab.research.google.com/github/decrsrack/Figma/blob/main/Tutorial.ipynb\" target=\"_parent\"><img src=\"https://colab.research.google.com/assets/colab-badge.svg\" alt=\"Open In Colab\"/></a>"
      ]
    },
    {
      "cell_type": "markdown",
      "source": [
        "Selamat datang di contoh file Python di Google Colab. Disini kamu akan belajar mengenai dasar penggunaan Google Colab dan pengenalan umum soal Python.\n",
        "Jika sekarang kamu membaca tulisan ini maka kamu sudah bisa membuka Google Colab.\n",
        "Untuk melakukan koding dengan Python, langkah berikut ini harus dilakukan."
      ],
      "metadata": {
        "id": "lPn0hzLSONPB"
      }
    },
    {
      "cell_type": "code",
      "source": [
        "#Tulis variabel nilai = 90\n",
        "nilai = 90"
      ],
      "metadata": {
        "id": "AXm0WuzNOZJG"
      },
      "execution_count": 1,
      "outputs": []
    },
    {
      "cell_type": "code",
      "source": [
        "#Tambahkan nilai dengan 5\n",
        "nilai+5"
      ],
      "metadata": {
        "id": "H9wvbGa1OlfW"
      },
      "execution_count": null,
      "outputs": []
    },
    {
      "cell_type": "code",
      "source": [
        "#Tulis variabel absen = 5\n"
      ],
      "metadata": {
        "id": "MHKwW84COt0Q"
      },
      "execution_count": null,
      "outputs": []
    },
    {
      "cell_type": "code",
      "source": [
        "# Kurangi absen dengan 2\n"
      ],
      "metadata": {
        "id": "NPJdUBxJUbos"
      },
      "execution_count": null,
      "outputs": []
    }
  ]
}